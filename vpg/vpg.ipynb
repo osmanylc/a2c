{
 "cells": [
  {
   "cell_type": "code",
   "execution_count": 18,
   "metadata": {},
   "outputs": [],
   "source": [
    "import torch\n",
    "from torch import nn\n",
    "from torch.nn import functional as F\n",
    "import gym"
   ]
  },
  {
   "cell_type": "markdown",
   "metadata": {},
   "source": [
    "## Steps to Implement VPG for cartpole:\n",
    "\n",
    "1. Create a policy network for cartpole. Need the input size and ranges, output size and ranges, and network architecture.\n",
    "2. Create value network. Can make this as a separate head of the policy network, so that they share the representation, but one head outputs the value and the other the policy.\n",
    "3. Initialize the policy network to some sensible parameters.\n",
    "4. Create the training loop:\n",
    "    1. Run the set policy for $k$ encounters, and compute the return to go $\\hat{R_t}$ for each encounter. (why do we calculate return to go and not the total return?)\n",
    "    2. Compute the advantage estimates $\\tilde{A_t}$. Advantage $\\tilde{A_t} = \\hat{R_t} - V_{\\phi_k}$.\n",
    "    3. Estimate the policy gradient as \n",
    "    $$\n",
    "    \\hat{g} = \\sum_{t=0}^{T-1} \\nabla_{\\theta} \\log \\pi(a_t | s_t, \\theta) \\left(\\sum_{t' = t}^{T-1} r_{t'} - V_{\\phi_k}(s_t)\\right)\n",
    "    $$"
   ]
  },
  {
   "cell_type": "markdown",
   "metadata": {},
   "source": [
    "### Create and inspect cartpole env\n",
    "\n",
    "The specification of the cartpole environment is: \n",
    "\n",
    "    Box(4):\n",
    "        Num\tObservation                 Min         Max\n",
    "        0\tCart Position             -4.8            4.8\n",
    "        1\tCart Velocity             -Inf            Inf\n",
    "        2\tPole Angle                 -24 deg        24 deg\n",
    "        3\tPole Velocity At Tip      -Inf            Inf\n",
    "        \n",
    "    Actions:\n",
    "        Type: Discrete(2)\n",
    "        Num\tAction\n",
    "        0\tPush cart to the left\n",
    "        1\tPush cart to the right\n",
    "        \n",
    "    Reward:\n",
    "        Reward is 1 for every step taken, including the termination step.\n",
    "        \n",
    "    Starting State:\n",
    "        All observations are assigned a uniform random value in [-0.05..0.05].\n",
    "        \n",
    "    Episode Termination:\n",
    "        Pole Angle is more than 12 degrees\n",
    "        Cart Position is more than 2.4 (center of the cart reaches the edge of the display)\n",
    "        Episode length is greater than 200\n",
    "        \n",
    "    Solved Requirements:\n",
    "        Considered solved when the average reward is greater than or equal to 195.0 over 100 consecutive trials."
   ]
  },
  {
   "cell_type": "code",
   "execution_count": 3,
   "metadata": {},
   "outputs": [],
   "source": [
    "env = gym.make('CartPole-v0')"
   ]
  },
  {
   "cell_type": "code",
   "execution_count": 9,
   "metadata": {},
   "outputs": [
    {
     "data": {
      "text/plain": [
       "Box(4,)"
      ]
     },
     "execution_count": 9,
     "metadata": {},
     "output_type": "execute_result"
    }
   ],
   "source": [
    "env.observation_space"
   ]
  },
  {
   "cell_type": "code",
   "execution_count": 13,
   "metadata": {},
   "outputs": [
    {
     "data": {
      "text/plain": [
       "(4,)"
      ]
     },
     "execution_count": 13,
     "metadata": {},
     "output_type": "execute_result"
    }
   ],
   "source": [
    "env.observation_space.shape"
   ]
  },
  {
   "cell_type": "code",
   "execution_count": 12,
   "metadata": {},
   "outputs": [
    {
     "data": {
      "text/plain": [
       "Discrete(2)"
      ]
     },
     "execution_count": 12,
     "metadata": {},
     "output_type": "execute_result"
    }
   ],
   "source": [
    "env.action_space"
   ]
  },
  {
   "cell_type": "markdown",
   "metadata": {},
   "source": [
    "### Create Actor Critic Network from Environment Definition"
   ]
  },
  {
   "cell_type": "code",
   "execution_count": 17,
   "metadata": {},
   "outputs": [
    {
     "name": "stdout",
     "output_type": "stream",
     "text": [
      "in=4, out=2\n"
     ]
    }
   ],
   "source": [
    "in_size = env.observation_space.shape[0]\n",
    "out_size = env.action_space.n\n",
    "print(f'in={in_size}, out={out_size}')"
   ]
  },
  {
   "cell_type": "markdown",
   "metadata": {},
   "source": [
    "Create a neural network that takes in the observations and outputs (1) the value of the state and (2) the policy values for each action at that state.\n",
    "\n",
    "The neural network has two output heads, one for the policy and one for the value function. It has one hidden layer to encode the representation of the state:\n",
    "\n",
    "in -> hidden(16) \\\n",
    "-> value(16) -> value-out\\\n",
    "-> $\\pi$(16) -> $\\pi$-out"
   ]
  },
  {
   "cell_type": "code",
   "execution_count": null,
   "metadata": {},
   "outputs": [],
   "source": [
    "class ActorCritic(nn.Module):\n",
    "    \n",
    "    def __init__(self, in_size, out_size):\n",
    "        super(ActorCritic, self).__init__()\n",
    "        "
   ]
  }
 ],
 "metadata": {
  "kernelspec": {
   "display_name": "Python 3",
   "language": "python",
   "name": "python3"
  },
  "language_info": {
   "codemirror_mode": {
    "name": "ipython",
    "version": 3
   },
   "file_extension": ".py",
   "mimetype": "text/x-python",
   "name": "python",
   "nbconvert_exporter": "python",
   "pygments_lexer": "ipython3",
   "version": "3.7.5"
  }
 },
 "nbformat": 4,
 "nbformat_minor": 2
}
